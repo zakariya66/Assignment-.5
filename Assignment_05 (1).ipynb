{
  "nbformat": 4,
  "nbformat_minor": 0,
  "metadata": {
    "colab": {
      "provenance": []
    },
    "kernelspec": {
      "name": "python3",
      "display_name": "Python 3"
    },
    "language_info": {
      "name": "python"
    }
  },
  "cells": [
    {
      "cell_type": "markdown",
      "source": [
        "**1.How can you open a file for writing in Python and write a string to it**"
      ],
      "metadata": {
        "id": "AFsAF2eLaH_X"
      }
    },
    {
      "cell_type": "code",
      "source": [
        "# Open file in write mode (\"w\") and write a string\n",
        "with open(\"example.txt\", \"w\") as f:\n",
        "    f.write(\"Hello, this is a test string!\")\n",
        "print(\"File written successfully.\")\n"
      ],
      "metadata": {
        "colab": {
          "base_uri": "https://localhost:8080/"
        },
        "id": "znkD3LMVaKL4",
        "outputId": "f399c5b6-1257-4822-bfbe-51e55c2f3a95"
      },
      "execution_count": null,
      "outputs": [
        {
          "output_type": "stream",
          "name": "stdout",
          "text": [
            "File written successfully.\n"
          ]
        }
      ]
    },
    {
      "cell_type": "markdown",
      "source": [
        "**` 2.Write a Python program to read the contents of a file and print each line`**"
      ],
      "metadata": {
        "id": "Bo4VuCofaWWn"
      }
    },
    {
      "cell_type": "code",
      "source": [
        "with open(\"example.txt\", \"r\") as f:\n",
        "    for line in f:\n",
        "        print(line.strip())\n"
      ],
      "metadata": {
        "colab": {
          "base_uri": "https://localhost:8080/"
        },
        "id": "AXCRuHBtaXxK",
        "outputId": "87d99a5c-b9ef-4729-f678-1a511df480b7"
      },
      "execution_count": null,
      "outputs": [
        {
          "output_type": "stream",
          "name": "stdout",
          "text": [
            "Hello, this is a test string!\n"
          ]
        }
      ]
    },
    {
      "cell_type": "markdown",
      "source": [
        "**` 3.How would you handle a case where the file doesn't exist while trying to open it for reading`**"
      ],
      "metadata": {
        "id": "Yfpd5PSWarNa"
      }
    },
    {
      "cell_type": "code",
      "source": [
        "try:\n",
        "    with open(\"nofile.txt\", \"r\") as f:\n",
        "        print(f.read())\n",
        "except FileNotFoundError:\n",
        "    print(\"Error: File not found!\")\n"
      ],
      "metadata": {
        "colab": {
          "base_uri": "https://localhost:8080/"
        },
        "id": "CYMMDNZQasiQ",
        "outputId": "1cca59f8-c106-4f55-aba5-09bc14c79124"
      },
      "execution_count": null,
      "outputs": [
        {
          "output_type": "stream",
          "name": "stdout",
          "text": [
            "Error: File not found!\n"
          ]
        }
      ]
    },
    {
      "cell_type": "markdown",
      "source": [
        "**4.Write a Python script that reads from one file and writes its content to another file**"
      ],
      "metadata": {
        "id": "RNnC4FSpa1qA"
      }
    },
    {
      "cell_type": "code",
      "source": [
        "with open(\"source.txt\", \"r\") as src, open(\"destination.txt\", \"w\") as dest:\n",
        "    for line in src:\n",
        "        dest.write(line)\n"
      ],
      "metadata": {
        "id": "SzfRDBvva4pI"
      },
      "execution_count": null,
      "outputs": []
    },
    {
      "cell_type": "markdown",
      "source": [],
      "metadata": {
        "id": "c-59TKxkaCks"
      }
    },
    {
      "cell_type": "markdown",
      "source": [
        "**5.How would you catch and handle division by zero error in Python**"
      ],
      "metadata": {
        "id": "9FLKyKaIbHQg"
      }
    },
    {
      "cell_type": "code",
      "source": [
        "try:\n",
        "    result = 10 / 0\n",
        "except ZeroDivisionError:\n",
        "    print(\"Cannot divide by zero!\")\n"
      ],
      "metadata": {
        "colab": {
          "base_uri": "https://localhost:8080/"
        },
        "id": "N9RSKuy7bG95",
        "outputId": "ed508bbc-7419-4acf-ee70-340cc55437bf"
      },
      "execution_count": null,
      "outputs": [
        {
          "output_type": "stream",
          "name": "stdout",
          "text": [
            "Cannot divide by zero!\n"
          ]
        }
      ]
    },
    {
      "cell_type": "markdown",
      "source": [
        "**` 6.Write a Python program that logs an error message to a log file when a division by zero exception occurs`**"
      ],
      "metadata": {
        "id": "hy6y1c0sbWQf"
      }
    },
    {
      "cell_type": "code",
      "source": [
        "import logging\n",
        "\n",
        "logging.basicConfig(filename=\"error.log\", level=logging.ERROR)\n",
        "\n",
        "try:\n",
        "    result = 10 / 0\n",
        "except ZeroDivisionError:\n",
        "    logging.error(\"Division by zero attempted.\")\n"
      ],
      "metadata": {
        "colab": {
          "base_uri": "https://localhost:8080/"
        },
        "id": "JcFGlxY0bYJo",
        "outputId": "6ff49225-1815-484b-d4a8-e9e0d7a972b3"
      },
      "execution_count": null,
      "outputs": [
        {
          "output_type": "stream",
          "name": "stderr",
          "text": [
            "ERROR:root:Division by zero attempted.\n"
          ]
        }
      ]
    },
    {
      "cell_type": "markdown",
      "source": [
        "**7. How do you log information at different levels (INFO, ERROR, WARNING) in Python using the logging module?**"
      ],
      "metadata": {
        "id": "eetKRkmcbjIf"
      }
    },
    {
      "cell_type": "code",
      "source": [
        "import logging\n",
        "\n",
        "logging.basicConfig(level=logging.DEBUG)\n",
        "\n",
        "logging.info(\"This is an info message.\")\n",
        "logging.warning(\"This is a warning.\")\n",
        "logging.error(\"This is an error.\")\n"
      ],
      "metadata": {
        "colab": {
          "base_uri": "https://localhost:8080/"
        },
        "id": "RRsjSLzdeWHO",
        "outputId": "ddc673e6-9b6d-4d34-a408-4ed484d11723"
      },
      "execution_count": null,
      "outputs": [
        {
          "output_type": "stream",
          "name": "stderr",
          "text": [
            "WARNING:root:This is a warning.\n",
            "ERROR:root:This is an error.\n"
          ]
        }
      ]
    },
    {
      "cell_type": "markdown",
      "source": [
        "**8. Write a program to handle a file opening error using exception handling**?"
      ],
      "metadata": {
        "id": "C4PL91bdeasG"
      }
    },
    {
      "cell_type": "code",
      "source": [
        "try:\n",
        "    with open(\"unknown.txt\", \"r\") as f:\n",
        "        print(f.read())\n",
        "except FileNotFoundError:\n",
        "    print(\"File could not be opened. It doesn't exist.\")\n"
      ],
      "metadata": {
        "colab": {
          "base_uri": "https://localhost:8080/"
        },
        "id": "bJe4wathebJP",
        "outputId": "8671f9d5-5372-458d-e973-7c2c66c26875"
      },
      "execution_count": null,
      "outputs": [
        {
          "output_type": "stream",
          "name": "stdout",
          "text": [
            "File could not be opened. It doesn't exist.\n"
          ]
        }
      ]
    },
    {
      "cell_type": "markdown",
      "source": [
        "** 9. How can you read a file line by line and store its content in a list in Python**"
      ],
      "metadata": {
        "id": "IIWYUD0m0J8T"
      }
    },
    {
      "cell_type": "code",
      "source": [
        "with open(\"example.txt\", \"r\") as f:\n",
        "    lines = [line.strip() for line in f]\n",
        "print(lines)\n"
      ],
      "metadata": {
        "colab": {
          "base_uri": "https://localhost:8080/"
        },
        "id": "ETrG-HKueub-",
        "outputId": "c81ccf64-a311-41c7-8bfc-699763a58802"
      },
      "execution_count": null,
      "outputs": [
        {
          "output_type": "stream",
          "name": "stdout",
          "text": [
            "['Hello, this is a test string!']\n"
          ]
        }
      ]
    },
    {
      "cell_type": "markdown",
      "source": [
        " 10.**How can you append data to an existing file in Python**"
      ],
      "metadata": {
        "id": "kue-G8a_ex5N"
      }
    },
    {
      "cell_type": "code",
      "source": [
        "with open(\"example.txt\", \"a\") as f:\n",
        "    f.write(\"\\nThis is appended text.\")\n"
      ],
      "metadata": {
        "id": "PGd8i4LIeykg"
      },
      "execution_count": null,
      "outputs": []
    },
    {
      "cell_type": "markdown",
      "source": [
        "** Write a Python program that uses a try-except block to handle an error when attempting to access a\n",
        "dictionary key that doesn't exist**\n",
        "\n",
        "```\n"
      ],
      "metadata": {
        "id": "rYvGvraB1p1b"
      }
    },
    {
      "cell_type": "code",
      "source": [
        "data = {\"name\": \"Zakariya\"}\n",
        "try:\n",
        "    print(data[\"age\"])\n",
        "except KeyError:\n",
        "    print(\"Key does not exist.\")\n"
      ],
      "metadata": {
        "colab": {
          "base_uri": "https://localhost:8080/"
        },
        "id": "yRmRxKkyf9OV",
        "outputId": "f3c753b1-fff3-48af-b897-aff2c1efa90e"
      },
      "execution_count": null,
      "outputs": [
        {
          "output_type": "stream",
          "name": "stdout",
          "text": [
            "Key does not exist.\n"
          ]
        }
      ]
    },
    {
      "cell_type": "markdown",
      "source": [
        "** 12. Write a program that demonstrates using multiple except blocks to handle different types of exceptions**"
      ],
      "metadata": {
        "id": "EPv7wFM1hY1l"
      }
    },
    {
      "cell_type": "code",
      "source": [
        "try:\n",
        "    lst = [1, 2, 3]\n",
        "    print(lst[5])  # IndexError\n",
        "except IndexError:\n",
        "    print(\"Index is out of range.\")\n",
        "except KeyError:\n",
        "    print(\"Key not found.\")\n"
      ],
      "metadata": {
        "colab": {
          "base_uri": "https://localhost:8080/"
        },
        "id": "VauF0tRdhZR0",
        "outputId": "f938e319-ed22-42ac-d8fd-5f17730e778b"
      },
      "execution_count": null,
      "outputs": [
        {
          "output_type": "stream",
          "name": "stdout",
          "text": [
            "Index is out of range.\n"
          ]
        }
      ]
    },
    {
      "cell_type": "markdown",
      "source": [
        "** 13. How would you check if a file exists before attempting to read it in Python**"
      ],
      "metadata": {
        "id": "bLquoDghhvqL"
      }
    },
    {
      "cell_type": "code",
      "source": [
        "import os\n",
        "\n",
        "if os.path.exists(\"example.txt\"):\n",
        "    with open(\"example.txt\", \"r\") as f:\n",
        "        print(f.read())\n",
        "else:\n",
        "    print(\"File does not exist.\")\n"
      ],
      "metadata": {
        "colab": {
          "base_uri": "https://localhost:8080/"
        },
        "id": "-BZXtqQwhwM9",
        "outputId": "22560ea0-6273-48dd-c917-2d333d5bca18"
      },
      "execution_count": null,
      "outputs": [
        {
          "output_type": "stream",
          "name": "stdout",
          "text": [
            "Hello, this is a test string!\n",
            "This is appended text.\n"
          ]
        }
      ]
    },
    {
      "cell_type": "markdown",
      "source": [
        "** 14. Write a program that uses the logging module to log both informational and error messages**\n",
        "\n",
        "\n",
        "\n"
      ],
      "metadata": {
        "id": "yC_IvWDnh9Xr"
      }
    },
    {
      "cell_type": "code",
      "source": [
        "import logging\n",
        "\n",
        "logging.basicConfig(filename=\"app.log\", level=logging.DEBUG)\n",
        "logging.info(\"Application started.\")\n",
        "logging.error(\"An error occurred!\")\n",
        "\n",
        "\n",
        "\n"
      ],
      "metadata": {
        "colab": {
          "base_uri": "https://localhost:8080/"
        },
        "id": "xUPmL_Ath-JZ",
        "outputId": "a996038d-7d6f-49eb-ed58-36fef0c71255"
      },
      "execution_count": null,
      "outputs": [
        {
          "output_type": "stream",
          "name": "stderr",
          "text": [
            "ERROR:root:An error occurred!\n"
          ]
        }
      ]
    },
    {
      "cell_type": "markdown",
      "source": [
        "**15. Write a Python program that prints the content of a file and handles the case when the file is empty**"
      ],
      "metadata": {
        "id": "HrUBFvkjiS3z"
      }
    },
    {
      "cell_type": "code",
      "source": [
        "import os\n",
        "\n",
        "file = \"example.txt\"\n",
        "if os.path.exists(file) and os.path.getsize(file) > 0:\n",
        "    with open(file, \"r\") as f:\n",
        "        print(f.read())\n",
        "else:\n",
        "    print(\"File is empty or does not exist.\")\n"
      ],
      "metadata": {
        "colab": {
          "base_uri": "https://localhost:8080/"
        },
        "id": "H_ZJ3XG9iTTM",
        "outputId": "5c09ab06-e74d-4547-af64-140ca1c28eb8"
      },
      "execution_count": null,
      "outputs": [
        {
          "output_type": "stream",
          "name": "stdout",
          "text": [
            "Hello, this is a test string!\n",
            "This is appended text.\n"
          ]
        }
      ]
    },
    {
      "cell_type": "markdown",
      "source": [
        "**16. Demonstrate how to use memory profiling to check the memory usage of a small program**"
      ],
      "metadata": {
        "id": "Mkm9m7hOihfM"
      }
    },
    {
      "cell_type": "code",
      "source": [
        "# Install memory-profiler: pip install memory-profiler\n",
        "from memory_profiler import profile\n",
        "\n",
        "@profile\n",
        "def my_program():\n",
        "    nums = [i for i in range(100000)]\n",
        "    print(\"List created.\")\n",
        "\n",
        "my_program()\n"
      ],
      "metadata": {
        "colab": {
          "base_uri": "https://localhost:8080/"
        },
        "id": "Ad5MhDSmih37",
        "outputId": "c7298d63-b82d-4eaa-d7d1-57fbe8c604dd"
      },
      "execution_count": null,
      "outputs": [
        {
          "output_type": "stream",
          "name": "stdout",
          "text": [
            "ERROR: Could not find file /tmp/ipython-input-3561333725.py\n",
            "List created.\n"
          ]
        }
      ]
    },
    {
      "cell_type": "code",
      "metadata": {
        "colab": {
          "base_uri": "https://localhost:8080/"
        },
        "id": "7e005ce4",
        "outputId": "832777a0-ad52-4d09-ac6c-b14c1e8a6f19"
      },
      "source": [
        "%pip install memory-profiler"
      ],
      "execution_count": null,
      "outputs": [
        {
          "output_type": "stream",
          "name": "stdout",
          "text": [
            "Collecting memory-profiler\n",
            "  Downloading memory_profiler-0.61.0-py3-none-any.whl.metadata (20 kB)\n",
            "Requirement already satisfied: psutil in /usr/local/lib/python3.11/dist-packages (from memory-profiler) (5.9.5)\n",
            "Downloading memory_profiler-0.61.0-py3-none-any.whl (31 kB)\n",
            "Installing collected packages: memory-profiler\n",
            "Successfully installed memory-profiler-0.61.0\n"
          ]
        }
      ]
    },
    {
      "cell_type": "markdown",
      "source": [
        "**17. Write a Python program to create and write a list of numbers to a file, one number per line**"
      ],
      "metadata": {
        "id": "RTFqWwqij2jq"
      }
    },
    {
      "cell_type": "code",
      "source": [
        "numbers = [1, 2, 3, 4, 5]\n",
        "with open(\"numbers.txt\", \"w\") as f:\n",
        "    for num in numbers:\n",
        "        f.write(f\"{num}\\n\")\n",
        "\n"
      ],
      "metadata": {
        "id": "UcaYC5TskCyj"
      },
      "execution_count": 32,
      "outputs": []
    },
    {
      "cell_type": "markdown",
      "source": [
        "** 18. How would you implement a basic logging setup that logs to a file with rotation after 1MB**"
      ],
      "metadata": {
        "id": "tCMHu771uuEY"
      }
    },
    {
      "cell_type": "code",
      "source": [
        "import logging\n",
        "from logging.handlers import RotatingFileHandler\n",
        "\n",
        "handler = RotatingFileHandler(\"rotating.log\", maxBytes=1_000_000, backupCount=3)\n",
        "logging.basicConfig(handlers=[handler], level=logging.INFO)\n",
        "\n",
        "logging.info(\"This is a rotating log message.\")\n"
      ],
      "metadata": {
        "id": "lM1UhUYNuw5F"
      },
      "execution_count": 34,
      "outputs": []
    },
    {
      "cell_type": "markdown",
      "source": [
        "**19. Write a program that handles both IndexError and KeyError using a try-except block**\n",
        "\n",
        "\n",
        "\n"
      ],
      "metadata": {
        "id": "9-2PGIAEu8WG"
      }
    },
    {
      "cell_type": "code",
      "source": [
        "try:\n",
        "    lst = [1, 2]\n",
        "    print(lst[5])\n",
        "except IndexError:\n",
        "    print(\"Index out of range.\")\n",
        "except KeyError:\n",
        "    print(\"Key not found.\")\n"
      ],
      "metadata": {
        "colab": {
          "base_uri": "https://localhost:8080/"
        },
        "id": "P9_2ijN0vBAm",
        "outputId": "e809f04c-8570-4c96-e015-0bcf0b38f276"
      },
      "execution_count": 35,
      "outputs": [
        {
          "output_type": "stream",
          "name": "stdout",
          "text": [
            "Index out of range.\n"
          ]
        }
      ]
    },
    {
      "cell_type": "markdown",
      "source": [
        "** 20. How would you open a file and read its contents using a context manager in Python **"
      ],
      "metadata": {
        "id": "PmJZ6g6qvGTO"
      }
    },
    {
      "cell_type": "code",
      "source": [
        "with open(\"example.txt\", \"r\") as f:\n",
        "    content = f.read()\n",
        "    print(content)\n"
      ],
      "metadata": {
        "colab": {
          "base_uri": "https://localhost:8080/"
        },
        "id": "-yooe8RYvKWa",
        "outputId": "084ba518-b754-4d2a-8bf0-b579c5c3a61e"
      },
      "execution_count": 36,
      "outputs": [
        {
          "output_type": "stream",
          "name": "stdout",
          "text": [
            "Hello, this is a test string!\n",
            "This is appended text.\n"
          ]
        }
      ]
    },
    {
      "cell_type": "markdown",
      "source": [
        "**21. Write a Python program that reads a file and prints the number of occurrences of a specific word**"
      ],
      "metadata": {
        "id": "Uqjf1gL2vOyv"
      }
    },
    {
      "cell_type": "code",
      "source": [
        "word_to_find = \"test\"\n",
        "count = 0\n",
        "with open(\"example.txt\", \"r\") as f:\n",
        "    for line in f:\n",
        "        count += line.lower().count(word_to_find.lower())\n",
        "print(f\"The word '{word_to_find}' occurred {count} times.\")\n"
      ],
      "metadata": {
        "colab": {
          "base_uri": "https://localhost:8080/"
        },
        "id": "3TaUFrG9vTDv",
        "outputId": "f84ca20a-6422-42c8-b4b5-541fbb8965b6"
      },
      "execution_count": 37,
      "outputs": [
        {
          "output_type": "stream",
          "name": "stdout",
          "text": [
            "The word 'test' occurred 1 times.\n"
          ]
        }
      ]
    },
    {
      "cell_type": "markdown",
      "source": [
        "**22. How can you check if a file is empty before attempting to read its contents**"
      ],
      "metadata": {
        "id": "C0n2gztN4QpJ"
      }
    },
    {
      "cell_type": "code",
      "source": [
        "import os\n",
        "\n",
        "if os.path.exists(\"example.txt\") and os.path.getsize(\"example.txt\") > 0:\n",
        "    with open(\"example.txt\", \"r\") as f:\n",
        "        print(f.read())\n",
        "else:\n",
        "    print(\"File is empty.\")\n"
      ],
      "metadata": {
        "id": "06O6FZty4PVx"
      },
      "execution_count": null,
      "outputs": []
    },
    {
      "cell_type": "markdown",
      "source": [
        "**23. Write a Python program that writes to a log file when an error occurs during file handling.**\n",
        "\n",
        "> Add blockquote\n",
        "\n"
      ],
      "metadata": {
        "id": "1ySgUMrtvWwq"
      }
    },
    {
      "cell_type": "code",
      "source": [
        "import logging\n",
        "\n",
        "logging.basicConfig(filename=\"file_error.log\", level=logging.ERROR)\n",
        "\n",
        "try:\n",
        "    with open(\"no_file.txt\", \"r\") as f:\n",
        "        print(f.read())\n",
        "except FileNotFoundError as e:\n",
        "    logging.error(f\"File handling error: {e}\")\n"
      ],
      "metadata": {
        "colab": {
          "base_uri": "https://localhost:8080/"
        },
        "id": "LiqlTnPOvcJW",
        "outputId": "f85e21b8-0375-4d88-b6b4-098970317d84"
      },
      "execution_count": 38,
      "outputs": [
        {
          "output_type": "stream",
          "name": "stderr",
          "text": [
            "ERROR:root:File handling error: [Errno 2] No such file or directory: 'no_file.txt'\n"
          ]
        }
      ]
    }
  ]
}